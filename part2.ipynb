{
 "cells": [
  {
   "cell_type": "code",
   "execution_count": 1,
   "metadata": {},
   "outputs": [],
   "source": [
    "import json"
   ]
  },
  {
   "cell_type": "code",
   "execution_count": 2,
   "metadata": {},
   "outputs": [],
   "source": [
    "def get_dict(file_name):\n",
    "  # Opening JSON file\n",
    "  with open(file_name) as json_file:\n",
    "    data = json.load(json_file)\n",
    "  return data"
   ]
  },
  {
   "cell_type": "code",
   "execution_count": 3,
   "metadata": {},
   "outputs": [],
   "source": [
    "train_subjects = ['P01', 'P04', 'P06'] \n",
    "test_subjects = ['P07', 'P09', 'P11', 'P12', 'P13', 'P14']"
   ]
  },
  {
   "cell_type": "markdown",
   "metadata": {},
   "source": [
    "Event IDs: [  11   12   13     21   22   23     31   32   33    41   42\n",
    "   43    111  112  113 121  122  123    131  132  133 \n",
    "  141  142  143   211  212  213   221  222  223   231  232\n",
    "  233  241  242  243 ]"
   ]
  },
  {
   "cell_type": "markdown",
   "metadata": {},
   "source": [
    "Each subject 36 events, and each event has 60 points"
   ]
  },
  {
   "cell_type": "code",
   "execution_count": 4,
   "metadata": {},
   "outputs": [
    {
     "name": "stdout",
     "output_type": "stream",
     "text": [
      "dict_keys(['P01', 'P04', 'P06'])\n",
      "dict_keys(['P07', 'P09', 'P11', 'P12', 'P13', 'P14'])\n",
      "36\n",
      "[-3.6195365838401103e-07, -3.8822701947248796e-07, 4.186965261311063e-07, 6.514715005135365e-07, 5.60091012373935e-07, 1.242549564070255e-06, 8.381584574764398e-07, -2.1296865078708282e-07, 6.217491005040589e-08, -2.6083648342131233e-07, -1.0610987056267474e-06, -5.68470706472091e-07, -7.568232441905335e-07, -8.259980968369172e-07, 4.6353392242684135e-07, 3.5375539631145247e-07, -1.9409354690191937e-07, 3.402026351156233e-07, 3.4357161476313484e-07, 3.061723303513547e-07, 7.97172936738131e-07, 1.5755535241076028e-06, 2.165612389545359e-06, 1.6301433409249415e-06, 1.3780507153315455e-06, 1.6201203619590922e-06, 1.1477254569596636e-06, 8.677829682270314e-07, 6.65341441631214e-07, 5.37651561224311e-07, 1.1980485345396437e-06, 1.7195026398890188e-06, 1.8007151128239642e-06, 2.082661506971477e-06, 2.8556567413319206e-06, 3.3999625529413727e-06, 3.395846335980678e-06, 3.5375443879374793e-06, 3.6034810017232458e-06, 3.7602535283289285e-06, 3.819877973315204e-06, 3.6787416287545398e-06, 4.019537217284569e-06, 3.826783639316934e-06, 3.5562967969679007e-06, 3.6039621819786433e-06, 2.8132511080482228e-06, 2.4579389211956454e-06, 2.81265455897597e-06, 3.0260317214138947e-06, 2.9601582234955374e-06, 2.421360759893248e-06, 2.109357580124444e-06, 1.5954744091562912e-06, 1.065303920096567e-06, 1.0977294069994852e-06, 6.835542358909682e-07, 8.175314345494639e-07, 1.83142800807365e-06, 1.8453036853981608e-06]\n"
     ]
    }
   ],
   "source": [
    "train_dict = get_dict('train.json')\n",
    "test_dict = get_dict('test.json')\n",
    "\n",
    "print(train_dict.keys())\n",
    "print(test_dict.keys())\n",
    "\n",
    "print(len(train_dict['P01']))\n",
    "# P01 subject key, and 112 is event key, value is 60 points\n",
    "print(train_dict['P01']['112'])"
   ]
  }
 ],
 "metadata": {
  "interpreter": {
   "hash": "7f23913d9230df67bc23a51356841fd38e81e27d09455160e8fc0905f1720ab7"
  },
  "kernelspec": {
   "display_name": "Python 3.10.0 ('cogs189')",
   "language": "python",
   "name": "python3"
  },
  "language_info": {
   "codemirror_mode": {
    "name": "ipython",
    "version": 3
   },
   "file_extension": ".py",
   "mimetype": "text/x-python",
   "name": "python",
   "nbconvert_exporter": "python",
   "pygments_lexer": "ipython3",
   "version": "3.10.0"
  },
  "orig_nbformat": 4
 },
 "nbformat": 4,
 "nbformat_minor": 2
}
