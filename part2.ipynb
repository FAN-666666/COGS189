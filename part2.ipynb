{
 "cells": [
  {
   "cell_type": "code",
   "execution_count": 1,
   "metadata": {},
   "outputs": [],
   "source": [
    "import json"
   ]
  },
  {
   "cell_type": "code",
   "execution_count": 2,
   "metadata": {},
   "outputs": [],
   "source": [
    "def get_dict(file_name):\n",
    "  # Opening JSON file\n",
    "  with open(file_name) as json_file:\n",
    "    data = json.load(json_file)\n",
    "  return data"
   ]
  },
  {
   "cell_type": "code",
   "execution_count": 3,
   "metadata": {},
   "outputs": [],
   "source": [
    "train_subjects = ['P01', 'P04', 'P06'] \n",
    "test_subjects = ['P07', 'P09', 'P11', 'P12', 'P13', 'P14']"
   ]
  },
  {
   "cell_type": "markdown",
   "metadata": {},
   "source": [
    "Event IDs: [  11   12   13     21   22   23     31   32   33    41   42\n",
    "   43    111  112  113 121  122  123    131  132  133 \n",
    "  141  142  143   211  212  213   221  222  223   231  232\n",
    "  233  241  242  243 ]"
   ]
  },
  {
   "cell_type": "markdown",
   "metadata": {},
   "source": [
    "Each subject 36 events, and each event has 60 points"
   ]
  },
  {
   "cell_type": "code",
   "execution_count": 5,
   "metadata": {},
   "outputs": [
    {
     "name": "stdout",
     "output_type": "stream",
     "text": [
      "dict_keys(['P01', 'P04', 'P06'])\n",
      "dict_keys(['P07', 'P09', 'P11', 'P12', 'P13', 'P14'])\n",
      "36\n",
      "359\n"
     ]
    }
   ],
   "source": [
    "train_dict = get_dict('train_359.json')\n",
    "test_dict = get_dict('test_359.json')\n",
    "\n",
    "print(train_dict.keys())\n",
    "print(test_dict.keys())\n",
    "\n",
    "print(len(train_dict['P01']))\n",
    "# P01 subject key, and 112 is event key, value is 60 points\n",
    "print(len(train_dict['P01']['112']))"
   ]
  }
 ],
 "metadata": {
  "interpreter": {
   "hash": "7f23913d9230df67bc23a51356841fd38e81e27d09455160e8fc0905f1720ab7"
  },
  "kernelspec": {
   "display_name": "Python 3.10.0 ('cogs189')",
   "language": "python",
   "name": "python3"
  },
  "language_info": {
   "codemirror_mode": {
    "name": "ipython",
    "version": 3
   },
   "file_extension": ".py",
   "mimetype": "text/x-python",
   "name": "python",
   "nbconvert_exporter": "python",
   "pygments_lexer": "ipython3",
   "version": "3.10.0"
  },
  "orig_nbformat": 4
 },
 "nbformat": 4,
 "nbformat_minor": 2
}
