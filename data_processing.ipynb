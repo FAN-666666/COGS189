{
 "cells": [
  {
   "cell_type": "code",
   "execution_count": 29,
   "metadata": {},
   "outputs": [],
   "source": [
    "import matplotlib\n",
    "import pathlib\n",
    "import mne"
   ]
  },
  {
   "cell_type": "code",
   "execution_count": 30,
   "metadata": {},
   "outputs": [],
   "source": [
    "# matplotlib.use('Qt5Agg')"
   ]
  },
  {
   "cell_type": "code",
   "execution_count": 31,
   "metadata": {},
   "outputs": [
    {
     "name": "stdout",
     "output_type": "stream",
     "text": [
      "Opening raw data file OpenMIIR-RawEEG_v1/P01-raw.fif...\n",
      "Isotrak not found\n",
      "    Read a total of 1 projection items:\n",
      "        Average EEG reference (1 x 64)  idle\n",
      "    Range : 0 ... 2478165 =      0.000 ...  4840.166 secs\n",
      "Ready.\n",
      "Reading 0 ... 2478165  =      0.000 ...  4840.166 secs...\n"
     ]
    },
    {
     "data": {
      "text/html": [
       "\n",
       "\n",
       "<table class=\"table table-hover table-striped table-sm table-responsive small\">\n",
       "    <tr>\n",
       "        <th>Measurement date</th>\n",
       "        <td>January 28, 2015  17:39:57 GMT</td>\n",
       "        \n",
       "    </tr>\n",
       "    <tr>\n",
       "        <th>Experimenter</th>\n",
       "<td>Unknown</td>\n",
       "    </tr>\n",
       "        <th>Participant</th>\n",
       "<td>Unknown</td>\n",
       "    </tr>\n",
       "    <tr>\n",
       "        <th>Digitized points</th>\n",
       "        <td>Not available</td>\n",
       "    </tr>\n",
       "    <tr>\n",
       "        <th>Good channels</th>\n",
       "        <td>64 EEG, 4 EOG, 1 Stimulus</td>\n",
       "    </tr>\n",
       "    <tr>\n",
       "        <th>Bad channels</th>\n",
       "        <td>P8, P10, T8</td>\n",
       "    </tr>\n",
       "    <tr>\n",
       "        <th>EOG channels</th>\n",
       "        <td>EXG1, EXG2, EXG3, EXG4</td>\n",
       "    </tr>\n",
       "    <tr>\n",
       "        <th>ECG channels</th>\n",
       "        <td>Not available</td>\n",
       "    <tr>\n",
       "        <th>Sampling frequency</th>\n",
       "        <td>512.00 Hz</td>\n",
       "    </tr>\n",
       "    <tr>\n",
       "        <th>Highpass</th>\n",
       "        <td>0.00 Hz</td>\n",
       "    </tr>\n",
       "    <tr>\n",
       "        <th>Lowpass</th>\n",
       "        <td>104.00 Hz</td>\n",
       "    </tr>\n",
       "        <tr>\n",
       "            <th>Projections</th>\n",
       "            <td>Average EEG reference: off</td>\n",
       "        </tr>\n",
       "\n",
       "    <tr>\n",
       "        <th>Filenames</th>\n",
       "        <td>P01-raw.fif</td>\n",
       "    </tr>\n",
       "    <tr>\n",
       "        <th>Duration</th>\n",
       "        <td>01:20:40 (HH:MM:SS)</td>\n",
       "    </tr>\n",
       "</table>\n"
      ],
      "text/plain": [
       "<Raw | P01-raw.fif, 69 x 2478166 (4840.2 s), ~1.27 GB, data loaded>"
      ]
     },
     "execution_count": 31,
     "metadata": {},
     "output_type": "execute_result"
    }
   ],
   "source": [
    "# data_folder = mne.datasets.sample.data_path('OpenMIIR-RawEEG_v1')\n",
    "# data_raw_file = os.path.join(data_folder, 'MEG', 'sample',\n",
    "#                                     'P01-raw.fif')\n",
    "fname = 'OpenMIIR-RawEEG_v1/P01-raw.fif'\n",
    "raw = mne.io.read_raw_fif(fname, preload=True)\n",
    "raw"
   ]
  },
  {
   "cell_type": "code",
   "execution_count": 32,
   "metadata": {},
   "outputs": [
    {
     "data": {
      "text/plain": [
       "<MNEBrowseFigure size 3220.5x2053.5 with 5 Axes>"
      ]
     },
     "execution_count": 32,
     "metadata": {},
     "output_type": "execute_result"
    }
   ],
   "source": [
    "raw.plot()"
   ]
  },
  {
   "cell_type": "code",
   "execution_count": 33,
   "metadata": {},
   "outputs": [
    {
     "name": "stdout",
     "output_type": "stream",
     "text": [
      "540 events found\n",
      "Event IDs: [  11   12   13   14   21   22   23   24   31   32   33   34   41   42\n",
      "   43   44  111  112  113  114  121  122  123  124  131  132  133  134\n",
      "  141  142  143  144  211  212  213  214  221  222  223  224  231  232\n",
      "  233  234  241  242  243  244 1000 1111 2001]\n"
     ]
    }
   ],
   "source": [
    "events = mne.find_events(raw) # 51 IDs"
   ]
  },
  {
   "cell_type": "code",
   "execution_count": 34,
   "metadata": {},
   "outputs": [
    {
     "data": {
      "text/plain": [
       "array([[    512,       0,     121],\n",
       "       [    520,       0,    1000],\n",
       "       [   8141,       0,     122],\n",
       "       ...,\n",
       "       [2459915,       0,    2001],\n",
       "       [2467882,       0,     224],\n",
       "       [2467925,       0,    2001]], dtype=int64)"
      ]
     },
     "execution_count": 34,
     "metadata": {},
     "output_type": "execute_result"
    }
   ],
   "source": [
    "events"
   ]
  },
  {
   "cell_type": "code",
   "execution_count": 52,
   "metadata": {},
   "outputs": [
    {
     "data": {
      "text/plain": [
       "<MNEBrowseFigure size 3220.5x2053.5 with 5 Axes>"
      ]
     },
     "execution_count": 52,
     "metadata": {},
     "output_type": "execute_result"
    },
    {
     "name": "stdout",
     "output_type": "stream",
     "text": [
      "Channels marked as bad: ['P8', 'P10', 'T8']\n",
      "Channels marked as bad: ['P8', 'P10', 'T8']\n"
     ]
    }
   ],
   "source": [
    "raw.plot()"
   ]
  },
  {
   "cell_type": "markdown",
   "metadata": {},
   "source": [
    "## Visualize the sensor locations"
   ]
  },
  {
   "cell_type": "code",
   "execution_count": 43,
   "metadata": {},
   "outputs": [
    {
     "data": {
      "text/plain": [
       "<Figure size 960x960 with 1 Axes>"
      ]
     },
     "execution_count": 43,
     "metadata": {},
     "output_type": "execute_result"
    }
   ],
   "source": [
    "raw.plot_sensors(ch_type='eeg')"
   ]
  },
  {
   "cell_type": "code",
   "execution_count": 42,
   "metadata": {},
   "outputs": [
    {
     "data": {
      "text/plain": [
       "<Figure size 960x960 with 1 Axes>"
      ]
     },
     "execution_count": 42,
     "metadata": {},
     "output_type": "execute_result"
    }
   ],
   "source": [
    "raw.plot_sensors(kind='3d', ch_type='eeg')"
   ]
  },
  {
   "cell_type": "markdown",
   "metadata": {},
   "source": [
    "## Select only a subset of the channels"
   ]
  },
  {
   "cell_type": "code",
   "execution_count": 45,
   "metadata": {},
   "outputs": [
    {
     "data": {
      "text/html": [
       "\n",
       "<table class=\"table table-hover table-striped table-sm table-responsive small\">\n",
       "    <tr>\n",
       "        <th>Measurement date</th>\n",
       "        <td>January 28, 2015  17:39:57 GMT</td>\n",
       "        \n",
       "    </tr>\n",
       "    <tr>\n",
       "        <th>Experimenter</th>\n",
       "<td>Unknown</td>\n",
       "    </tr>\n",
       "        <th>Participant</th>\n",
       "<td>Unknown</td>\n",
       "    </tr>\n",
       "    <tr>\n",
       "        <th>Digitized points</th>\n",
       "        <td>Not available</td>\n",
       "    </tr>\n",
       "    <tr>\n",
       "        <th>Good channels</th>\n",
       "        <td>64 EEG, 4 EOG, 1 Stimulus</td>\n",
       "    </tr>\n",
       "    <tr>\n",
       "        <th>Bad channels</th>\n",
       "        <td>P8, P10, T8</td>\n",
       "    </tr>\n",
       "    <tr>\n",
       "        <th>EOG channels</th>\n",
       "        <td>EXG1, EXG2, EXG3, EXG4</td>\n",
       "    </tr>\n",
       "    <tr>\n",
       "        <th>ECG channels</th>\n",
       "        <td>Not available</td>\n",
       "    <tr>\n",
       "        <th>Sampling frequency</th>\n",
       "        <td>512.00 Hz</td>\n",
       "    </tr>\n",
       "    <tr>\n",
       "        <th>Highpass</th>\n",
       "        <td>0.00 Hz</td>\n",
       "    </tr>\n",
       "    <tr>\n",
       "        <th>Lowpass</th>\n",
       "        <td>104.00 Hz</td>\n",
       "    </tr>\n",
       "        <tr>\n",
       "            <th>Projections</th>\n",
       "            <td>Average EEG reference: off</td>\n",
       "        </tr>\n",
       "</table>\n"
      ],
      "text/plain": [
       "<Info | 11 non-empty values\n",
       " bads: 3 items (P8, P10, T8)\n",
       " ch_names: Fp1, AF7, AF3, F1, F3, F5, F7, FT7, FC5, FC3, FC1, C1, C3, C5, ...\n",
       " chs: 64 EEG, 4 EOG, 1 Stimulus\n",
       " custom_ref_applied: False\n",
       " file_id: 4 items (dict)\n",
       " highpass: 0.0 Hz\n",
       " lowpass: 104.0 Hz\n",
       " meas_date: 2015-01-28 17:39:57 UTC\n",
       " meas_id: 4 items (dict)\n",
       " nchan: 69\n",
       " projs: Average EEG reference: off\n",
       " sfreq: 512.0 Hz\n",
       ">"
      ]
     },
     "execution_count": 45,
     "metadata": {},
     "output_type": "execute_result"
    }
   ],
   "source": [
    "raw.info"
   ]
  },
  {
   "cell_type": "code",
   "execution_count": 46,
   "metadata": {},
   "outputs": [
    {
     "data": {
      "text/plain": [
       "100.0"
      ]
     },
     "execution_count": 46,
     "metadata": {},
     "output_type": "execute_result"
    }
   ],
   "source": [
    "raw_eeg_cropped = raw.copy().crop(tmax=100)\n",
    "raw_eeg_cropped.times[-1]"
   ]
  },
  {
   "cell_type": "code",
   "execution_count": 48,
   "metadata": {},
   "outputs": [
    {
     "name": "stdout",
     "output_type": "stream",
     "text": [
      "Filtering raw data in 1 contiguous segment\n",
      "Setting up band-pass filter from 0.1 - 40 Hz\n",
      "\n",
      "FIR filter parameters\n",
      "---------------------\n",
      "Designing a one-pass, zero-phase, non-causal bandpass filter:\n",
      "- Windowed time-domain design (firwin) method\n",
      "- Hamming window with 0.0194 passband ripple and 53 dB stopband attenuation\n",
      "- Lower passband edge: 0.10\n",
      "- Lower transition bandwidth: 0.10 Hz (-6 dB cutoff frequency: 0.05 Hz)\n",
      "- Upper passband edge: 40.00 Hz\n",
      "- Upper transition bandwidth: 10.00 Hz (-6 dB cutoff frequency: 45.00 Hz)\n",
      "- Filter length: 16897 samples (33.002 sec)\n",
      "\n"
     ]
    }
   ],
   "source": [
    "raw_eeg_cropped_filtered = raw_eeg_cropped.filter(l_freq=0.1, h_freq=40)"
   ]
  },
  {
   "cell_type": "code",
   "execution_count": 49,
   "metadata": {},
   "outputs": [
    {
     "name": "stdout",
     "output_type": "stream",
     "text": [
      "Filtering raw data in 1 contiguous segment\n",
      "Setting up band-pass filter from 0.1 - 40 Hz\n",
      "\n",
      "FIR filter parameters\n",
      "---------------------\n",
      "Designing a one-pass, zero-phase, non-causal bandpass filter:\n",
      "- Windowed time-domain design (firwin) method\n",
      "- Hamming window with 0.0194 passband ripple and 53 dB stopband attenuation\n",
      "- Lower passband edge: 0.10\n",
      "- Lower transition bandwidth: 0.10 Hz (-6 dB cutoff frequency: 0.05 Hz)\n",
      "- Upper passband edge: 40.00 Hz\n",
      "- Upper transition bandwidth: 10.00 Hz (-6 dB cutoff frequency: 45.00 Hz)\n",
      "- Filter length: 16897 samples (33.002 sec)\n",
      "\n"
     ]
    }
   ],
   "source": [
    "raw_eeg_cropped.load_data()\n",
    "raw_eeg_cropped_filtered = raw_eeg_cropped.copy().filter(l_freq=0.1, h_freq=40)"
   ]
  },
  {
   "cell_type": "code",
   "execution_count": 54,
   "metadata": {},
   "outputs": [
    {
     "data": {
      "text/plain": [
       "<MNEBrowseFigure size 3220.5x2053.5 with 5 Axes>"
      ]
     },
     "execution_count": 54,
     "metadata": {},
     "output_type": "execute_result"
    },
    {
     "name": "stdout",
     "output_type": "stream",
     "text": [
      "Channels marked as bad: ['P8', 'P10', 'T8']\n",
      "Channels marked as bad: ['P8', 'P10', 'T8']\n"
     ]
    }
   ],
   "source": [
    "raw_eeg_cropped.plot(events=events)\n",
    "raw_eeg_cropped_filtered.plot(events=events)"
   ]
  },
  {
   "cell_type": "code",
   "execution_count": 56,
   "metadata": {},
   "outputs": [
    {
     "name": "stdout",
     "output_type": "stream",
     "text": [
      "Effective window size : 4.000 (s)\n",
      "Effective window size : 4.000 (s)\n"
     ]
    },
    {
     "name": "stderr",
     "output_type": "stream",
     "text": [
      "C:\\Users\\87678\\AppData\\Local\\Temp\\ipykernel_18724\\1456020143.py:12: UserWarning: This figure includes Axes that are not compatible with tight_layout, so results might be incorrect.\n",
      "  plt.show()\n",
      "D:\\tools_for_program\\anaconda3\\envs\\cogs189\\lib\\site-packages\\mne\\viz\\evoked.py:83: UserWarning: This figure includes Axes that are not compatible with tight_layout, so results might be incorrect.\n",
      "  event.canvas.draw()\n",
      "D:\\tools_for_program\\anaconda3\\envs\\cogs189\\lib\\site-packages\\mne\\viz\\evoked.py:110: UserWarning: This figure includes Axes that are not compatible with tight_layout, so results might be incorrect.\n",
      "  evoked_fig.canvas.draw()\n",
      "D:\\tools_for_program\\anaconda3\\envs\\cogs189\\lib\\site-packages\\mne\\viz\\evoked.py:155: UserWarning: This figure includes Axes that are not compatible with tight_layout, so results might be incorrect.\n",
      "  evoked_fig.canvas.draw()\n",
      "D:\\tools_for_program\\anaconda3\\envs\\cogs189\\lib\\site-packages\\mne\\viz\\evoked.py:164: UserWarning: This figure includes Axes that are not compatible with tight_layout, so results might be incorrect.\n",
      "  ax.get_figure().canvas.draw()\n",
      "D:\\tools_for_program\\anaconda3\\envs\\cogs189\\lib\\site-packages\\mne\\viz\\evoked.py:83: UserWarning: This figure includes Axes that are not compatible with tight_layout, so results might be incorrect.\n",
      "  event.canvas.draw()\n",
      "D:\\tools_for_program\\anaconda3\\envs\\cogs189\\lib\\site-packages\\mne\\viz\\evoked.py:110: UserWarning: This figure includes Axes that are not compatible with tight_layout, so results might be incorrect.\n",
      "  evoked_fig.canvas.draw()\n",
      "D:\\tools_for_program\\anaconda3\\envs\\cogs189\\lib\\site-packages\\mne\\viz\\evoked.py:155: UserWarning: This figure includes Axes that are not compatible with tight_layout, so results might be incorrect.\n",
      "  evoked_fig.canvas.draw()\n",
      "D:\\tools_for_program\\anaconda3\\envs\\cogs189\\lib\\site-packages\\mne\\viz\\evoked.py:164: UserWarning: This figure includes Axes that are not compatible with tight_layout, so results might be incorrect.\n",
      "  ax.get_figure().canvas.draw()\n",
      "D:\\tools_for_program\\anaconda3\\envs\\cogs189\\lib\\site-packages\\mne\\viz\\evoked.py:76: UserWarning: This figure includes Axes that are not compatible with tight_layout, so results might be incorrect.\n",
      "  event.canvas.draw()\n",
      "D:\\tools_for_program\\anaconda3\\envs\\cogs189\\lib\\site-packages\\mne\\viz\\evoked.py:83: UserWarning: This figure includes Axes that are not compatible with tight_layout, so results might be incorrect.\n",
      "  event.canvas.draw()\n",
      "D:\\tools_for_program\\anaconda3\\envs\\cogs189\\lib\\site-packages\\mne\\viz\\evoked.py:110: UserWarning: This figure includes Axes that are not compatible with tight_layout, so results might be incorrect.\n",
      "  evoked_fig.canvas.draw()\n",
      "D:\\tools_for_program\\anaconda3\\envs\\cogs189\\lib\\site-packages\\mne\\viz\\evoked.py:155: UserWarning: This figure includes Axes that are not compatible with tight_layout, so results might be incorrect.\n",
      "  evoked_fig.canvas.draw()\n",
      "D:\\tools_for_program\\anaconda3\\envs\\cogs189\\lib\\site-packages\\mne\\viz\\evoked.py:164: UserWarning: This figure includes Axes that are not compatible with tight_layout, so results might be incorrect.\n",
      "  ax.get_figure().canvas.draw()\n"
     ]
    }
   ],
   "source": []
  }
 ],
 "metadata": {
  "interpreter": {
   "hash": "7f23913d9230df67bc23a51356841fd38e81e27d09455160e8fc0905f1720ab7"
  },
  "kernelspec": {
   "display_name": "Python 3.10.0 ('cogs189')",
   "language": "python",
   "name": "python3"
  },
  "language_info": {
   "codemirror_mode": {
    "name": "ipython",
    "version": 3
   },
   "file_extension": ".py",
   "mimetype": "text/x-python",
   "name": "python",
   "nbconvert_exporter": "python",
   "pygments_lexer": "ipython3",
   "version": "3.10.0"
  },
  "orig_nbformat": 4
 },
 "nbformat": 4,
 "nbformat_minor": 2
}
